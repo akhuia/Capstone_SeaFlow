{
 "metadata": {
  "name": "",
  "signature": "sha256:92ad51b454537b0442ce556530d69d1ae2a590e9e243bc55e2f8e84a250a3ecd"
 },
 "nbformat": 3,
 "nbformat_minor": 0,
 "worksheets": [
  {
   "cells": [
    {
     "cell_type": "code",
     "collapsed": false,
     "input": [
      "from sklearn.decomposition import PCA\n",
      "import matplotlib.pyplot as plt\n",
      "import pandas as pd\n",
      "import pylab as py\n",
      "import numpy as np\n",
      "\n",
      "source = pd.read_csv('seaflow.csv')\n",
      "Data = pd.DataFrame(source)\n",
      "\n",
      "pca1=PCA(3)\n",
      "X_proj = pca1.fit_transform(Data)\n",
      "print pca1.explained_variance_ratio_\n",
      "#Checking for Components ability to describe total volume of Data\n",
      "\n",
      "pca2=PCA(np.sum(pca1.explained_variance_ratio_[0]+pca1.explained_variance_ratio_[1]))\n",
      "#The above two components describe over 98% of the Data. Used both, and ignored the third.\n",
      "X_new = pca2.fit_transform(Data)\n",
      "print pca2.explained_variance_ratio_\n",
      "\n",
      "plt.scatter(X_new[:,0], X_new[:,1], c='red')\n",
      "\n",
      "plt.show()"
     ],
     "language": "python",
     "metadata": {},
     "outputs": [
      {
       "output_type": "stream",
       "stream": "stdout",
       "text": [
        "[ 0.89403156  0.09156941]\n"
       ]
      }
     ],
     "prompt_number": 12
    },
    {
     "cell_type": "code",
     "collapsed": false,
     "input": [],
     "language": "python",
     "metadata": {},
     "outputs": []
    }
   ],
   "metadata": {}
  }
 ]
}